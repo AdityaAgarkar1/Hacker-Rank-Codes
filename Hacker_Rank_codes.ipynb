{
  "nbformat": 4,
  "nbformat_minor": 0,
  "metadata": {
    "colab": {
      "name": "Hacker Rank codes.ipynb",
      "provenance": [],
      "collapsed_sections": [],
      "authorship_tag": "ABX9TyNILMCi8g+WQfACN5gnejgD",
      "include_colab_link": true
    },
    "kernelspec": {
      "name": "python3",
      "display_name": "Python 3"
    }
  },
  "cells": [
    {
      "cell_type": "markdown",
      "metadata": {
        "id": "view-in-github",
        "colab_type": "text"
      },
      "source": [
        "<a href=\"https://colab.research.google.com/github/AdityaAgarkar1/Hacker-Rank-Codes/blob/main/Hacker_Rank_codes.ipynb\" target=\"_parent\"><img src=\"https://colab.research.google.com/assets/colab-badge.svg\" alt=\"Open In Colab\"/></a>"
      ]
    },
    {
      "cell_type": "markdown",
      "metadata": {
        "id": "zABGtYAkrWVx"
      },
      "source": [
        "1. Swap cases \n",
        "  "
      ]
    },
    {
      "cell_type": "code",
      "metadata": {
        "colab": {
          "base_uri": "https://localhost:8080/"
        },
        "id": "sX9IBidUrdtX",
        "outputId": "f1ce4db8-a23b-4816-f0fb-5f13afe6c06f"
      },
      "source": [
        "def swap_case(string):\n",
        "    s = list(string)\n",
        "    for i in range(len(s)):\n",
        "      if s[i].isupper():\n",
        "        s[i]= s[i].lower()\n",
        "      else:\n",
        "        s[i]=  s[i].upper()\n",
        "    return \"\".join(s) \n",
        "\n",
        "if __name__ == '__main__':\n",
        "\n",
        "  s = input(\"enter you string : \")\n",
        "  output= swap_case(s)\n",
        "  print(output)"
      ],
      "execution_count": null,
      "outputs": [
        {
          "output_type": "stream",
          "text": [
            "enter you string : Aditya\n",
            "aDITYA\n"
          ],
          "name": "stdout"
        }
      ]
    },
    {
      "cell_type": "markdown",
      "metadata": {
        "id": "DrYyCdq0wtV0"
      },
      "source": [
        "given  a string and a factor of len of string i.e len(s) = n and k will be \n",
        "factor of n. \n",
        "\n",
        "So for input we will take a string s and factor k \n",
        "\n",
        "we have to do n/k and then print substrings without repeating the characters in the string \n",
        "\n",
        "eg.\n",
        "\n",
        "InPuT :  s = AABCAAADA  k = 3\n",
        "\n",
        "output :  AB CA DA\n"
      ]
    },
    {
      "cell_type": "code",
      "metadata": {
        "colab": {
          "base_uri": "https://localhost:8080/"
        },
        "id": "YrX4HvIU0Sa5",
        "outputId": "3ea961ca-1c6b-403d-8e15-d0f1411427ca"
      },
      "source": [
        "def merge_the_tools(string, k):\n",
        "    substrings= []\n",
        "    stringList = list(string)  \n",
        "    start,end=0,0\n",
        "    s=int(len(string)/k)\n",
        "\n",
        "\n",
        "    for i in range(s):\n",
        "      end = start+k\n",
        "      substrings.append(string[start:end])\n",
        "      start= end\n",
        "    print(substrings)\n",
        "\n",
        "    for i in substrings:\n",
        "      print(\"\".join(dict.fromkeys(i)))  # Here we are removing duplicates from the substrings using dictionary as it does not store duplicate key values.\n",
        "\n",
        "\n",
        "if __name__ == '__main__':\n",
        "    string, k = input(), int(input())\n",
        "    if (len(string)/k).is_integer() :\n",
        "      merge_the_tools(string, k)\n",
        "        \n",
        "    else:\n",
        "      print(\"Enter the correct value of k\")\n",
        "      "
      ],
      "execution_count": null,
      "outputs": [
        {
          "output_type": "stream",
          "text": [
            "aabbaaccaadd\n",
            "6\n",
            "['aabbaa', 'ccaadd']\n",
            "ab\n",
            "cad\n"
          ],
          "name": "stdout"
        }
      ]
    },
    {
      "cell_type": "markdown",
      "metadata": {
        "id": "aDHUJoEBGtRY"
      },
      "source": [
        "3. TIME DELTA\n",
        "\n",
        "give the difference between two timezone values in seconds\n"
      ]
    },
    {
      "cell_type": "code",
      "metadata": {
        "colab": {
          "base_uri": "https://localhost:8080/"
        },
        "id": "VdcG3YBZG_0D",
        "outputId": "c56c7e33-2e7d-4f23-8a0e-7e7caffaf0ca"
      },
      "source": [
        "#!/bin/python3\n",
        "\n",
        "import math\n",
        "import os\n",
        "import random\n",
        "import re\n",
        "import sys\n",
        "from datetime import datetime \n",
        "\n",
        "\n",
        "def time_delta(t1, t2):\n",
        "    \n",
        "    frmt = '%a %d %b %Y %H:%M:%S %z'\n",
        "    difference = int(abs( (datetime.strptime(t1,frmt) - datetime.strptime(t2,frmt)).total_seconds() )) \n",
        "    return str(difference)\n",
        "\n",
        "    \n",
        "    \n",
        "\n",
        "if __name__ == '__main__':\n",
        "    #fptr = open(os.environ['OUTPUT_PATH'], 'w')\n",
        "    time_stamps = [\"Sun 10 May 2015 13:54:36 -0700\",\"Sun 10 May 2015 13:54:36 -0000\",\"Sat 02 May 2015 19:54:36 +0530\",\"Fri 01 May 2015 13:54:36 -0000\"]\n",
        "    t = int(input())\n",
        "\n",
        "    delta = time_delta(time_stamps[0],time_stamps[1])\n",
        "    #delta =  time_delta(time_stamps[2],time_stamps[3])\n",
        "    print(delta)\n",
        "        #fptr.write(delta + '\\n')\n",
        "\n",
        "    #fptr.close()\n"
      ],
      "execution_count": null,
      "outputs": [
        {
          "output_type": "stream",
          "text": [
            "2\n",
            "25200\n"
          ],
          "name": "stdout"
        }
      ]
    },
    {
      "cell_type": "markdown",
      "metadata": {
        "id": "tO6BjyxdM0I4"
      },
      "source": [
        "DECODE MATRIX\n",
        "\n",
        "you are given a matrix with alphanumeric characters and special characters as fillers, You have to replace 2 or more sp.char between 2 alphanumeric characters with a space. \n",
        "\n",
        "input :\n",
        "col rows\n",
        "\n",
        "T s i\n",
        "\n",
        "h % x\n",
        "\n",
        "i   #\n",
        "\n",
        "s m  \n",
        "\n",
        "$ a  \n",
        "\n",
        "'#' t %\n",
        "i r !\n",
        "\n",
        "decoded = This$#is% Matrix#  %!\n",
        " output = this is Matrix#  %!\n",
        " "
      ]
    },
    {
      "cell_type": "code",
      "metadata": {
        "colab": {
          "base_uri": "https://localhost:8080/",
          "height": 371
        },
        "id": "fuwgJ6tlN3fE",
        "outputId": "047a0ae6-882b-4615-9023-42bb040c2065"
      },
      "source": [
        "\n",
        "\n",
        "\n",
        "import math\n",
        "import os\n",
        "import random\n",
        "import re\n",
        "import sys\n",
        "\n",
        "\n",
        "\n",
        "\n",
        "#first_multiple_input = input().rstrip().split()\n",
        "\n",
        "n = 7#int(first_multiple_input[0])\n",
        "\n",
        "m = 3#int(first_multiple_input[1])\n",
        "\n",
        "matrix = ['Tsi','h%x', 'i #' ,'sm ', '$a ','#t%', 'ir!']\n",
        "\n",
        "\n",
        "'''for _ in range(n):\n",
        "    matrix_item = input()\n",
        "    matrix.append(matrix_item)\n",
        "'''\n",
        "for i in range(len(matrix)):\n",
        "  print(matrix[i])\n",
        "\n",
        "s = []\n",
        "for j in range(m): \n",
        "  for i in matrix:\n",
        "    s.append(i[j])\n",
        "\n",
        "for i in s:\n",
        "  i.isalnum()\n",
        "\n",
        "  \n",
        "\n",
        "    \n",
        "print('\\n',s)"
      ],
      "execution_count": null,
      "outputs": [
        {
          "output_type": "stream",
          "text": [
            "Tsi\n",
            "h%x\n",
            "i #\n",
            "sm \n",
            "$a \n",
            "#t%\n",
            "ir!\n"
          ],
          "name": "stdout"
        },
        {
          "output_type": "error",
          "ename": "NameError",
          "evalue": "ignored",
          "traceback": [
            "\u001b[0;31m---------------------------------------------------------------------------\u001b[0m",
            "\u001b[0;31mNameError\u001b[0m                                 Traceback (most recent call last)",
            "\u001b[0;32m<ipython-input-46-57d3f4ecc77c>\u001b[0m in \u001b[0;36m<module>\u001b[0;34m()\u001b[0m\n\u001b[1;32m     32\u001b[0m     \u001b[0ms\u001b[0m\u001b[0;34m.\u001b[0m\u001b[0mappend\u001b[0m\u001b[0;34m(\u001b[0m\u001b[0mi\u001b[0m\u001b[0;34m[\u001b[0m\u001b[0mj\u001b[0m\u001b[0;34m]\u001b[0m\u001b[0;34m)\u001b[0m\u001b[0;34m\u001b[0m\u001b[0;34m\u001b[0m\u001b[0m\n\u001b[1;32m     33\u001b[0m \u001b[0;34m\u001b[0m\u001b[0m\n\u001b[0;32m---> 34\u001b[0;31m \u001b[0ms1\u001b[0m \u001b[0;34m=\u001b[0m \u001b[0mlist\u001b[0m\u001b[0;34m(\u001b[0m\u001b[0mfilter\u001b[0m\u001b[0;34m(\u001b[0m\u001b[0misalnum\u001b[0m\u001b[0;34m(\u001b[0m\u001b[0;34m)\u001b[0m\u001b[0;34m,\u001b[0m\u001b[0ms\u001b[0m\u001b[0;34m)\u001b[0m\u001b[0;34m)\u001b[0m\u001b[0;34m\u001b[0m\u001b[0;34m\u001b[0m\u001b[0m\n\u001b[0m\u001b[1;32m     35\u001b[0m \u001b[0;34m\u001b[0m\u001b[0m\n\u001b[1;32m     36\u001b[0m \u001b[0;34m\u001b[0m\u001b[0m\n",
            "\u001b[0;31mNameError\u001b[0m: name 'isalnum' is not defined"
          ]
        }
      ]
    },
    {
      "cell_type": "markdown",
      "metadata": {
        "id": "w5g4o4bTouCA"
      },
      "source": [
        "No Idea \n",
        "\n",
        "\n",
        "1.   There are n integers which are divided in two disjoint sets. \n",
        "2.   If the integer is in set A then we add 1 to our happiness score but if it belongs to the set B then we subtract 1 from our total happiness.\n",
        "3. Output the your final happiness at the end\n",
        "4. INPUT = \n",
        "\n",
        "n,m = 3 2 \n",
        "\n",
        "n   = 1 5 3\n",
        "\n",
        "A   = 3 1\n",
        "\n",
        "B   = 5 7\n",
        "\n",
        "5. Output : 1\n",
        "\n",
        "\n"
      ]
    },
    {
      "cell_type": "code",
      "metadata": {
        "colab": {
          "base_uri": "https://localhost:8080/"
        },
        "id": "ON1Yhh0RqY2p",
        "outputId": "85f0d81f-fbc6-4494-e5e4-c7c5abd2ea42"
      },
      "source": [
        "\n",
        "\n",
        "input_string = input().split()\n",
        "n = int(input_string[0])\n",
        "m = int(input_string[1])\n",
        "\n",
        "A,B=[],[]\n",
        "happiness_score=0\n",
        "\n",
        "l1= input().split()\n",
        "  \n",
        "A = (set(input().split()))\n",
        "B = (set(input().split()))\n",
        "\n",
        "\n",
        "\n",
        "for i in range(n):\n",
        "  if l1[i] in A:\n",
        "    happiness_score+= 1\n",
        "  elif l1[i] in B:\n",
        "    happiness_score+= -1\n",
        "  else:\n",
        "    happiness_score+=0\n",
        "\n",
        "print(happiness_score)\n",
        "\n",
        "\n"
      ],
      "execution_count": null,
      "outputs": [
        {
          "output_type": "stream",
          "text": [
            "3 2\n",
            "1 5 3\n",
            "3 1\n",
            "5 7\n",
            "1\n"
          ],
          "name": "stdout"
        }
      ]
    },
    {
      "cell_type": "markdown",
      "metadata": {
        "id": "D5UxozwT0ZOV"
      },
      "source": [
        "Word order problem\n",
        "\n",
        "You are given n words. Some words may repeat. For each word, output its number of occurrences. The output order should correspond with the input order of appearance of the word. See the sample input/output for clarification.\n",
        "\n",
        "input :\n",
        "\n",
        "The first line contains the integer, n.\n",
        "The next n lines each contain a word.\n",
        "for eg.\n",
        "\n",
        "4\n",
        "\n",
        "bcdef\n",
        "\n",
        "abcdefg\n",
        "\n",
        "bcde\n",
        "\n",
        "bcdef\n",
        "\n",
        "\n",
        "OUTPUT:\n",
        "\n",
        "Output 2 lines.\n",
        "On the first line, output the number of distinct words from the input.\n",
        "On the second line, output the number of occurrences for each distinct word according to their appearance in the input.for eg.\n",
        "\n",
        "3\n",
        "\n",
        "2 1 1\n",
        "\n",
        "\n",
        "\n"
      ]
    },
    {
      "cell_type": "code",
      "metadata": {
        "colab": {
          "base_uri": "https://localhost:8080/"
        },
        "id": "-1m8JQMJ1euz",
        "outputId": "89373d28-f8d5-4144-f568-e218b589fbcb"
      },
      "source": [
        "'''\n",
        "A VERY PYTHONIC SOLUTION :\n",
        "works even for 100000 values .very fast.\n",
        "from collections import Counter, OrderedDict\n",
        "class OrderedCounter(Counter, OrderedDict):\n",
        "    pass\n",
        "d = OrderedCounter(input() for _ in range(int(input())))\n",
        "print(len(d))\n",
        "print(*d.values())\n",
        "\n",
        "'''\n",
        "\n",
        "\n",
        "n = int(input())\n",
        "if n < 100000:\n",
        "        \n",
        "    wordsList = []\n",
        "    for _ in range(n):\n",
        "        wordsList.append(input())\n",
        "    cnt=0\n",
        "    cntList={}\n",
        "\n",
        "    for word in wordsList:\n",
        "        cnt=0\n",
        "        for i in range(len(wordsList)):\n",
        "            if word == wordsList[i]:\n",
        "                cnt+=1\n",
        "        \n",
        "        cntList[word]=cnt\n",
        "\n",
        "    print(len(cntList))\n",
        "\n",
        "    # you can use * in from of an iterable to print all its values in a line in a print statement.\n",
        "    print(*cntList.values())\n",
        "else:\n",
        "    print('Enter proper value of n')"
      ],
      "execution_count": null,
      "outputs": [
        {
          "output_type": "stream",
          "text": [
            "4\n",
            "bcdef\n",
            "bcdefg\n",
            "bcde\n",
            "bcdef\n",
            "3\n",
            "2 1 1\n"
          ],
          "name": "stdout"
        }
      ]
    },
    {
      "cell_type": "code",
      "metadata": {
        "colab": {
          "base_uri": "https://localhost:8080/"
        },
        "id": "cAbITyZS2KWw",
        "outputId": "67dbbb01-f9d1-4b32-9ae6-f565b0fa3774"
      },
      "source": [
        "l = ['aab', 'aabaa','aaab']\n",
        "cntList=[]\n",
        "cnt=0\n",
        "\n",
        "for j in l:\n",
        "    print('\\n',j)\n",
        "    cnt=0\n",
        "    for i in range(len(l)):    \n",
        "        print(l[i])\n",
        "        cnt= j.count(l[i])\n",
        "        cnt+=1\n",
        "    cntList.append(cnt)\n",
        "\n",
        "\n",
        "print(*cntList)"
      ],
      "execution_count": null,
      "outputs": [
        {
          "output_type": "stream",
          "text": [
            "\n",
            " aab\n",
            "aab\n",
            "aabaa\n",
            "aaab\n",
            "\n",
            " aabaa\n",
            "aab\n",
            "aabaa\n",
            "aaab\n",
            "\n",
            " aaab\n",
            "aab\n",
            "aabaa\n",
            "aaab\n",
            "1 1 2\n"
          ],
          "name": "stdout"
        }
      ]
    },
    {
      "cell_type": "markdown",
      "metadata": {
        "id": "Lo2IdZwg4-bu"
      },
      "source": [
        "Find the torsion angle \n",
        "\n",
        " You have to print the angle made by two planes ABC and BCD \n",
        "\n",
        "  cos(phi)= X.Y / |X||Y| where X=ABxBC and Y BCxCD\n",
        "\n",
        "  X.Y is dot product ,and ABxBC is cross product \n",
        "\n",
        "  Input : co-ordinates of 4 vertices \n",
        "\n",
        "0 4 5\n",
        "\n",
        "1 7 6\n",
        "\n",
        "0 5 9\n",
        "\n",
        "1 7 2\n",
        "\n",
        "\n",
        "  output : angle \n",
        "\n",
        "  8.19\n",
        "\n",
        "\n",
        "\n",
        "\n",
        "\n"
      ]
    },
    {
      "cell_type": "code",
      "metadata": {
        "colab": {
          "base_uri": "https://localhost:8080/"
        },
        "id": "G1Bt4d715Bux",
        "outputId": "5d13f014-a455-4b06-abd7-fa1414bc1397"
      },
      "source": [
        "import math\n",
        "\n",
        "class Points(object):\n",
        "    def __init__(self, x=0, y=0, z=0):\n",
        "        self.x = x\n",
        "        self.y = y\n",
        "        self.z = z\n",
        "\n",
        "    def __sub__(self, no):\n",
        "        p = self.x - no.x\n",
        "        q = self.y - no.y\n",
        "        r = self.z - no.z\n",
        "        return Points(p,q,r)\n",
        "\n",
        "    def dot(self, no):\n",
        "        dotProduct = self.x* no.x + self.y* no.y + self.z * no.z\n",
        "        return dotProduct\n",
        "\n",
        "    def cross(self, no):\n",
        "        p = self.z * no.y - self.y * no.z\n",
        "        q = self.z * no.x - self.x * no.z\n",
        "        r = self.x * no.y - self.y * no.x\n",
        "        return Points(p,q,r)\n",
        "\n",
        "    def absolute(self):\n",
        "        return pow((self.x ** 2 + self.y ** 2 + self.z ** 2), 0.5)\n",
        "\n",
        "if __name__ == '__main__':\n",
        "    points = list()\n",
        "    for i in range(4):\n",
        "        a = list(map(float, input().split()))\n",
        "        points.append(a)\n",
        "\n",
        "\n",
        "    \n",
        "    a, b, c, d = Points(*points[0]), Points(*points[1]), Points(*points[2]), Points(*points[3])\n",
        "    \n",
        "    x = (b - a).cross(c - b)\n",
        "    #print(x)\n",
        "    y = (c - b).cross(d - c)\n",
        "    #print(y)\n",
        "    angle = math.acos(x.dot(y) / (x.absolute() * y.absolute()))\n",
        "\n",
        "    print(\"%.2f\" % math.degrees(angle))"
      ],
      "execution_count": null,
      "outputs": [
        {
          "output_type": "stream",
          "text": [
            "0 4 5\n",
            "1 7 6\n",
            "0 5 9\n",
            "1 7 2\n",
            "<__main__.Points object at 0x7fca24e389b0>\n",
            "<__main__.Points object at 0x7fca24e525c0>\n",
            "8.19\n"
          ],
          "name": "stdout"
        }
      ]
    },
    {
      "cell_type": "markdown",
      "metadata": {
        "id": "_Djo_AiwFnAJ"
      },
      "source": [
        "create a class for Imaginary numbers \n",
        "\n",
        "For this problem, you are given two complex numbers, and you have to print the result of their addition, subtraction, multiplication, division and modulus operations.\n",
        "\n",
        "The real and imaginary precision part should be correct up to two decimal places.\n",
        "\n",
        "\n",
        "INPUT : \n",
        "\n",
        "2 1\n",
        "\n",
        "5 6\n",
        "\n",
        "OUTPUT : \n",
        "\n",
        "7.00+7.00i\n",
        "\n",
        "-3.00-5.00i\n",
        "\n",
        "4.00+17.00i\n",
        "\n",
        "0.26-0.11i\n",
        "\n",
        "2.24+0.00i\n",
        "\n",
        "7.81+0.00i\n"
      ]
    },
    {
      "cell_type": "code",
      "metadata": {
        "colab": {
          "base_uri": "https://localhost:8080/"
        },
        "id": "ZMbGRex-FuiU",
        "outputId": "97b5b5a4-03de-498f-8fb0-aeb4ae6f5345"
      },
      "source": [
        "import math\n",
        "\n",
        "class Complex(object):\n",
        "    def __init__(self, real, imaginary):\n",
        "        self.real = real\n",
        "        self.imaginary = imaginary\n",
        "      \n",
        "        \n",
        "    def __add__(self, no):\n",
        "        resultReal = self.real + no.real\n",
        "        resultImaginary = self.imaginary + no.imaginary\n",
        "        return Complex(resultReal,resultImaginary)\n",
        "\n",
        "\n",
        "        \n",
        "        \n",
        "    def __sub__(self, no):\n",
        "        resultReal = self.real - no.real\n",
        "        resultImaginary = self.imaginary - no.imaginary\n",
        "        return Complex(resultReal,resultImaginary)\n",
        "        \n",
        "    def __mul__(self, no):\n",
        "        resultReal = (self.real*no.real ) - (self.imaginary*no.imaginary)\n",
        "        resultImaginary = (self.real*no.imaginary) + (self.imaginary*no.real)\n",
        "        return Complex(resultReal,resultImaginary)    \n",
        "\n",
        "        \n",
        "\n",
        "    def __truediv__(self, no):\n",
        "        realNumerator = (self.real*no.real)+(self.imaginary*no.imaginary)\n",
        "        imaginaryNumerator = (self.imaginary*no.real) - (self.real*no.imaginary)\n",
        "        denominator= pow(no.real,2) + pow(no.imaginary,2)\n",
        "        return Complex(realNumerator/denominator,imaginaryNumerator/denominator)\n",
        "\n",
        "\n",
        "\n",
        "\n",
        "    def mod(self):\n",
        "        return Complex(math.sqrt(self.real**2+self.imaginary**2),0)\n",
        "\n",
        "    def __str__(self):\n",
        "        if self.imaginary == 0:\n",
        "            result = \"%.2f+0.00i\" % (self.real)\n",
        "        elif self.real == 0:\n",
        "            if self.imaginary >= 0:\n",
        "                result = \"0.00+%.2fi\" % (self.imaginary)\n",
        "            else:\n",
        "                result = \"0.00-%.2fi\" % (abs(self.imaginary))\n",
        "        elif self.imaginary > 0:\n",
        "            result = \"%.2f+%.2fi\" % (self.real, self.imaginary)\n",
        "        else:\n",
        "            result = \"%.2f-%.2fi\" % (self.real, abs(self.imaginary))\n",
        "        return result\n",
        "\n",
        "if __name__ == '__main__':\n",
        "    c = map(float, input().split())\n",
        "    d = map(float, input().split())\n",
        "    x = Complex(*c)\n",
        "    y = Complex(*d)\n",
        "    print(*map(str, [x+y, x-y, x*y, x/y, x.mod(), y.mod()]), sep='\\n')"
      ],
      "execution_count": null,
      "outputs": [
        {
          "output_type": "stream",
          "text": [
            "2 1\n",
            "5 6\n",
            "7.00+7.00i\n",
            "-3.00-5.00i\n",
            "4.00+17.00i\n",
            "0.26-0.11i\n",
            "2.24+0.00i\n",
            "7.81+0.00i\n"
          ],
          "name": "stdout"
        }
      ]
    },
    {
      "cell_type": "markdown",
      "metadata": {
        "id": "_RjoYsqmPonF"
      },
      "source": [
        "Print the even and odd indices of the input strings"
      ]
    },
    {
      "cell_type": "code",
      "metadata": {
        "id": "3jbNcPQ-PnAo",
        "colab": {
          "base_uri": "https://localhost:8080/"
        },
        "outputId": "ee532b76-4f3a-4701-ad60-a6307e107cdd"
      },
      "source": [
        "'''\n",
        "PYTHONIC SOLUTION:\n",
        "\n",
        "for i in range(int(input())):\n",
        "    s=input()\n",
        "    print(*[\"\".join(s[::2]),\"\".join(s[1::2]) ] )\n",
        "'''\n",
        "\n",
        "'''\n",
        "#version 1\n",
        "\n",
        "noOfWords = int(input())\n",
        "inputString= []\n",
        "for i in range(noOfWords):\n",
        "    inputString.append(input())\n",
        "#print(inputString)\n",
        "\n",
        "for word in inputString:\n",
        "    #print(word)\n",
        "    even,odd='',''\n",
        "    for i in range(len(word)):\n",
        "        if i%2==0:\n",
        "            even+= word[i]\n",
        "        else:\n",
        "            odd+=word[i]\n",
        "    print(even,' ',odd)\n",
        "\n",
        "'''\n",
        "\n",
        "#revision 1\n",
        "l1=[]\n",
        "for i in range(int(input())):\n",
        "    string = input()\n",
        "    l1.append(\"\".join(string[::2])+\" \"+\"\".join(string[1::2]))\n",
        "print(*l1,sep='\\n')\n",
        "\n",
        "    "
      ],
      "execution_count": null,
      "outputs": [
        {
          "output_type": "stream",
          "text": [
            "2\n",
            "HaCkEr\n",
            "RaNk\n",
            "HCE akr\n",
            "RN ak\n"
          ],
          "name": "stdout"
        }
      ]
    },
    {
      "cell_type": "markdown",
      "metadata": {
        "id": "UU8Cm-iF99To"
      },
      "source": [
        "Create a phone dictionary taking names, numbers as input and return 'name=number'if found in dictionary else print not found"
      ]
    },
    {
      "cell_type": "code",
      "metadata": {
        "colab": {
          "base_uri": "https://localhost:8080/"
        },
        "id": "pMowctWJ0MfX",
        "outputId": "17b11676-046b-45bb-8cc0-262785ca202c"
      },
      "source": [
        "'''\n",
        "\n",
        "directory = {}\n",
        "n = int(input())\n",
        "for i in range(n):\n",
        "    namePhone = input().split()\n",
        "    directory[namePhone[0]] = namePhone[1]\n",
        "for i in range(n):\n",
        "    name=input()\n",
        "    if name in directory.keys():\n",
        "        print(f'{name}={directory.get(name)}')\n",
        "    else:\n",
        "        print('not found')\n",
        "#print(directory)\n",
        "'''\n",
        "\n",
        "\n",
        "directory = {}\n",
        "n = int(input())\n",
        "for i in range(n):\n",
        "    namePhone = input().split()\n",
        "    directory[namePhone[0]] = namePhone[1]\n",
        "\n",
        "#added while and try catch as the no of validations/checks might not be equal to no of inputs\n",
        "while True:\n",
        "    try:\n",
        "        name=input()\n",
        "        if name in directory.keys():\n",
        "            print(f'{name}={directory.get(name)}')\n",
        "        else:\n",
        "            print('Not found')\n",
        "    except:\n",
        "        break\n",
        "    \n",
        "#print(directory)\n",
        "\n",
        "\n",
        "\n"
      ],
      "execution_count": null,
      "outputs": [
        {
          "output_type": "stream",
          "text": [
            "2\n",
            "a 12344\n",
            "b 321321\n",
            "c\n",
            "not found\n",
            "a\n",
            "a=12344\n",
            "{'a': '12344', 'b': '321321'}\n"
          ],
          "name": "stdout"
        }
      ]
    },
    {
      "cell_type": "markdown",
      "metadata": {
        "id": "4xMwTHY19Jnr"
      },
      "source": [
        "Find the pairs of socks\n",
        "\n",
        "input : 10 10 20 10 20 20 10 30 50\n",
        "\n",
        "output : no of pairs\n"
      ]
    },
    {
      "cell_type": "code",
      "metadata": {
        "colab": {
          "base_uri": "https://localhost:8080/"
        },
        "id": "yxvBBAzX62Gf",
        "outputId": "6cd0e0b3-c3bb-49d3-d08e-842d77494c12"
      },
      "source": [
        "\n",
        "# Complete the sockMerchant function below.\n",
        "def sockMerchant(n, ar):\n",
        "    pairs=0\n",
        "    for sock in set(ar):\n",
        "        sockCounter=0\n",
        "        for i in range(n):\n",
        "            if sock == ar[i]:\n",
        "                sockCounter+=1\n",
        "        pairs+= int(sockCounter/2)\n",
        "    return pairs \n",
        "\n",
        "\n",
        "sockMerchant(int(input()),input().split())"
      ],
      "execution_count": null,
      "outputs": [
        {
          "output_type": "stream",
          "text": [
            "5 \n",
            "1 2 2 3 1\n"
          ],
          "name": "stdout"
        },
        {
          "output_type": "execute_result",
          "data": {
            "text/plain": [
              "2"
            ]
          },
          "metadata": {
            "tags": []
          },
          "execution_count": 5
        }
      ]
    },
    {
      "cell_type": "markdown",
      "metadata": {
        "id": "cm7GAfbr9Uw8"
      },
      "source": [
        "Counting valleys \n",
        "a hiker keeps record of steps while hiking.\n",
        "\n",
        "A mountain is : when he takes a step abv sea level\n",
        "\n",
        "A valley is : when he takes a step below sea level\n",
        "\n",
        "one step is 1 unit. eg UU = a mountain of 2 units\n",
        "\n",
        "input :\n",
        "\n",
        "no of steps, 8\n",
        "path, UDDDUDUU\n",
        "\n",
        "output : no of valleys , 1\n",
        "\n",
        "\n"
      ]
    },
    {
      "cell_type": "code",
      "metadata": {
        "colab": {
          "base_uri": "https://localhost:8080/"
        },
        "id": "hUYbAmoG-XfE",
        "outputId": "12eeb6b3-ef69-4f7b-e1f2-ac4cae4ddfee"
      },
      "source": [
        "\n",
        "def countingValleys(steps, path):\n",
        "    \n",
        "    seaLevel = 0\n",
        "    valleys=0\n",
        "    for i in path:\n",
        "        if i == 'U':\n",
        "            seaLevel+= -1\n",
        "            if seaLevel==0:\n",
        "                valleys+=1\n",
        "        else:\n",
        "            seaLevel+= 1\n",
        "    print(valleys)\n",
        "        \n",
        "countingValleys(8,'DDUUUDDDUU')"
      ],
      "execution_count": null,
      "outputs": [
        {
          "output_type": "stream",
          "text": [
            "2\n"
          ],
          "name": "stdout"
        }
      ]
    },
    {
      "cell_type": "markdown",
      "metadata": {
        "id": "QKc-aTAtKp34"
      },
      "source": [
        "Counting clouds \n",
        "\n"
      ]
    },
    {
      "cell_type": "code",
      "metadata": {
        "colab": {
          "base_uri": "https://localhost:8080/"
        },
        "id": "hW1C0Dr5KwZI",
        "outputId": "784729a9-b5a6-4fc6-a5e5-d3aa3d98bbf9"
      },
      "source": [
        "def jumpingOnClouds(c):\n",
        "    \n",
        "    i = count_jumps = 0\n",
        "\n",
        "    while i < len(c) - 1:     #here we keep our index below len of list\n",
        "        if i < len(c) - 2 and c[i + 2] == 0:    # here we check if i+2 is a 0 so that we can skip the cloud in between and also jump from second last to last in one jump\n",
        "            i += 2\n",
        "        else:\n",
        "            i += 1\n",
        "        count_jumps += 1\n",
        "\n",
        "    return count_jumps\n",
        "\n",
        "l1= ['0','0','0','1','0']\n",
        "jumpingOnClouds(l1)"
      ],
      "execution_count": null,
      "outputs": [
        {
          "output_type": "execute_result",
          "data": {
            "text/plain": [
              "4"
            ]
          },
          "metadata": {
            "tags": []
          },
          "execution_count": 1
        }
      ]
    },
    {
      "cell_type": "markdown",
      "metadata": {
        "id": "F-Og3eHBjvMM"
      },
      "source": [
        "Repeated string:\n",
        "\n",
        "there is a string s, of lowercase letters that is repeated  infintely many times. Given an integer n, find and print the no of letter 'a' in the first n letters of infinite string.\n",
        "\n",
        "Ex:\n",
        "s='abcac'\n",
        "\n",
        "n=10\n",
        "\n",
        "the substring we consider is abcacabcac ,the first 10 charactes of infinite string. There are 4 occurences of 'a' in the substring.\n",
        "\n",
        "\n",
        "\n"
      ]
    },
    {
      "cell_type": "code",
      "metadata": {
        "colab": {
          "base_uri": "https://localhost:8080/"
        },
        "id": "iv7W7-8llC0D",
        "outputId": "793e5a68-1521-4e42-fc00-b0bac6ec0741"
      },
      "source": [
        "import math\n",
        "import os\n",
        "import random\n",
        "import re\n",
        "import sys\n",
        "\n",
        "# version1\n",
        "'''def repeatedString(substring, n):\n",
        "\n",
        "    if substring == 'a':\n",
        "        return n\n",
        "    string=''\n",
        "    length = len(substring)\n",
        "    if int(n%length) == 0:\n",
        "        string = substring*(int(n/length))\n",
        "    else:\n",
        "        #print(substring[:(int(n-(length*(int(n/length)))))])\n",
        "        string = (substring * (int(n/length))) + \"\".join(substring[:(int(n-(length*(int(n/length)))))])\n",
        "    \n",
        "    return (string.count('a'))'''\n",
        "\n",
        "#version2\n",
        "def repeatedString(substring,n):\n",
        "    count = substring.count('a')\n",
        "    length = len(substring)\n",
        "    additionalString=''\n",
        "    if int(n%length) == 0:\n",
        "        count = count * int(n/length)\n",
        "        return count\n",
        "    else:\n",
        "        additionalString = substring[:(n - (length * int(n/length))) ] \n",
        "        count = count * int(n/length) + additionalString.count('a')\n",
        "        \n",
        "        return count\n",
        "\n",
        "\n",
        "'''\n",
        "MORE PYTHONIC SOLUTION\n",
        "\n",
        "print(s.count(\"a\") * (n // len(s)) + s[:n % len(s)].count(\"a\"))\n",
        "\n",
        "'''\n",
        "\n",
        "result = repeatedString('kmretasscityylpdhuwjirnqimlkcgxubxmsxpypgzxtenweirknjtasxtvxemtwxuarabssvqdnktqadhyktagjxoanknhgilnm',736778906400)\n",
        "#result = repeatedString('aba',10)\n",
        "print(result)"
      ],
      "execution_count": null,
      "outputs": [
        {
          "output_type": "stream",
          "text": [
            "51574523448\n"
          ],
          "name": "stdout"
        }
      ]
    },
    {
      "cell_type": "markdown",
      "metadata": {
        "id": "HE6k_KH-FBIv"
      },
      "source": [
        "2D array - DS\n",
        "https://www.hackerrank.com/challenges/2d-array/problem?h_l=interview&playlist_slugs%5B%5D=interview-preparation-kit&playlist_slugs%5B%5D=arrays\n",
        "\n"
      ]
    },
    {
      "cell_type": "code",
      "metadata": {
        "colab": {
          "base_uri": "https://localhost:8080/"
        },
        "id": "t2GP5s_DFsU9",
        "outputId": "f3bbaf8d-580f-4cf5-841f-a2fa813b13d5"
      },
      "source": [
        "import math\n",
        "import os\n",
        "import random\n",
        "import re\n",
        "import sys\n",
        "\n",
        "# Complete the hourglassSum function below.\n",
        "def hourglassSum(arr):\n",
        "    \n",
        "    sum = []\n",
        "\n",
        "    for i in range(len(arr)-2):\n",
        "        for j in range(len(arr)-2):\n",
        "            hourGlassSum = arr[i][j]+arr[i][j+1]+arr[i][j+2]+arr[i+1][j+1]+arr[i+2][j]+arr[i+2][j+1]+arr[i+2][j+2]   \n",
        "            sum.append(hourGlassSum)\n",
        "            #print(sum)\n",
        "\n",
        "    print(max(sum),sep='\\n')\n",
        "\n",
        "\n",
        "\n",
        "\n",
        "\n",
        "\n",
        "arr=[['1', '1', '1', '0', '0', '0'],['0', '1', '0', '0', '0', '0'], ['1', '1', '1', '0', '0', '0'], ['0', '0', '2', '4', '4', '0'],['0', '0', '0', '2', '0', '0'],['0', '0', '1', '2', '4', '0'] ]\n",
        "# converting type of elements in nested list (here matrix)\n",
        "arr = [[int(element) for element in row] for row in arr ]\n",
        "hourglassSum(arr)\n"
      ],
      "execution_count": null,
      "outputs": [
        {
          "output_type": "stream",
          "text": [
            "[7]\n",
            "[7, 4]\n",
            "[7, 4, 2]\n",
            "[7, 4, 2, 0]\n",
            "[7, 4, 2, 0, 4]\n",
            "[7, 4, 2, 0, 4, 8]\n",
            "[7, 4, 2, 0, 4, 8, 10]\n",
            "[7, 4, 2, 0, 4, 8, 10, 8]\n",
            "[7, 4, 2, 0, 4, 8, 10, 8, 3]\n",
            "[7, 4, 2, 0, 4, 8, 10, 8, 3, 6]\n",
            "[7, 4, 2, 0, 4, 8, 10, 8, 3, 6, 7]\n",
            "[7, 4, 2, 0, 4, 8, 10, 8, 3, 6, 7, 6]\n",
            "[7, 4, 2, 0, 4, 8, 10, 8, 3, 6, 7, 6, 3]\n",
            "[7, 4, 2, 0, 4, 8, 10, 8, 3, 6, 7, 6, 3, 9]\n",
            "[7, 4, 2, 0, 4, 8, 10, 8, 3, 6, 7, 6, 3, 9, 19]\n",
            "[7, 4, 2, 0, 4, 8, 10, 8, 3, 6, 7, 6, 3, 9, 19, 14]\n",
            "19\n"
          ],
          "name": "stdout"
        }
      ]
    },
    {
      "cell_type": "markdown",
      "metadata": {
        "id": "p257ofPWtUMy"
      },
      "source": [
        "Rotate the elements in the array to the left x positions \n",
        "\n",
        "1,2,3,4,5 after 4 rotations becomes 5,1,2,3,4\n",
        "\n"
      ]
    },
    {
      "cell_type": "code",
      "metadata": {
        "colab": {
          "base_uri": "https://localhost:8080/"
        },
        "id": "v1hgpp3ntiI6",
        "outputId": "bd391e8b-a6de-448e-8683-4841997c2651"
      },
      "source": [
        "def rotLeft(a, d):\n",
        "    rotArr = [0 for x in range(len(a))]\n",
        "    print(a)\n",
        "    l = len(a)\n",
        "    for i in range(len(a)):\n",
        "        rotArr[i] = a[(i+d)%l]\n",
        "\n",
        "    print(rotArr)\n",
        "\n",
        "rotLeft([1,2,3,4,5],4)\n"
      ],
      "execution_count": null,
      "outputs": [
        {
          "output_type": "stream",
          "text": [
            "[1, 2, 3, 4, 5]\n",
            "[5, 1, 2, 3, 4]\n"
          ],
          "name": "stdout"
        }
      ]
    },
    {
      "cell_type": "markdown",
      "metadata": {
        "id": "Jn9JRE73KRyC"
      },
      "source": [
        "New Year Chaos\n",
        "\n",
        "https://www.hackerrank.com/challenges/new-year-chaos/problem?h_l=interview&playlist_slugs%5B%5D=interview-preparation-kit&playlist_slugs%5B%5D=arrays&h_r=next-challenge&h_v=zen&h_r=next-challenge&h_v=zen\n",
        "\n"
      ]
    },
    {
      "cell_type": "code",
      "metadata": {
        "colab": {
          "base_uri": "https://localhost:8080/"
        },
        "id": "1mKL1SR6KV_J",
        "outputId": "be497eae-3402-4d3f-cfd3-6cc90d7fe388"
      },
      "source": [
        "from bs4 import BeautifulSoup\n",
        "import requests\n",
        "\n",
        "'''\n",
        "def minimumBribes(q):\n",
        "    a = [i + 1 for i in range(len(q))]\n",
        "    d = {}\n",
        "\n",
        "    for i in range(len(q)):\n",
        "        if a[i] != q[i]:\n",
        "            d[i + 1] = q.index(a[i]) - a.index(a[i])\n",
        "    #print(d)\n",
        "\n",
        "    bribes = sum( [x for x in d.values() if x < 0  ])\n",
        "    #print(-bribes)\n",
        "    if -bribes > 3:\n",
        "        print('Too chaotic')\n",
        "    else:\n",
        "        print(-bribes)\n",
        "\n",
        "def minimumBribes(q):\n",
        "    a = [i + 1 for i in range(len(q))]\n",
        "    d = {}\n",
        "\n",
        "    for i in range(len(q)):\n",
        "        if a[i] != q[i]:\n",
        "            d[i + 1] = q.index(a[i]) - a.index(a[i])\n",
        "    print(d)\n",
        "    bribes = [0, 0]\n",
        "    bribes[0] = sum([x for x in d.values() if x < 0])\n",
        "    bribes[1] = ([1 for x in d.values() if x <= -3])\n",
        "    #print(bribes)\n",
        "    if bribes[1] == [1]:\n",
        "        print('Too chaotic')\n",
        "    else:\n",
        "        print(-bribes[0])\n",
        "'''\n",
        "\n",
        "\n",
        "def minimumBribes(q):\n",
        "    a = [i + 1 for i in range(len(q))]\n",
        "    moves = 0\n",
        "    print(q)\n",
        "    q = [P - 1 for P in q]\n",
        "    print(q)\n",
        "    for i, P in enumerate(q):\n",
        "        if P - i > 2:\n",
        "            print(\"Too chaotic\")\n",
        "            # return\n",
        "\n",
        "        for j in range(max(P - 1, 0), i):\n",
        "            if q[j] > P:\n",
        "                moves += 1\n",
        "\n",
        "    print(moves)\n",
        "\n",
        "minimumBribes([5,1,2,3,7,8,6,4])\n",
        "minimumBribes([1,2,5,3,7,8,6,4])\n",
        "minimumBribes([2,1,5,3,4])\n",
        "minimumBribes([2,5,1,3,4])\n"
      ],
      "execution_count": null,
      "outputs": [
        {
          "output_type": "stream",
          "text": [
            "[2, 1, 5, 3, 4]\n",
            "[1, 0, 4, 2, 3]\n",
            "3\n"
          ],
          "name": "stdout"
        }
      ]
    },
    {
      "cell_type": "markdown",
      "metadata": {
        "id": "OJ1iV4MXT0xq"
      },
      "source": [
        "Find the minimum no of swaps required to sort an array in ascending order\n",
        "\n",
        "Output the minimum no of swaps.\n",
        "\n"
      ]
    },
    {
      "cell_type": "code",
      "metadata": {
        "colab": {
          "base_uri": "https://localhost:8080/",
          "height": 135
        },
        "id": "o29LzmjFh-23",
        "outputId": "ac5897bc-5cbc-46e4-b6a0-86ec002ccaa5"
      },
      "source": [
        "\n",
        "'''\n",
        "PYTHONIC SOLUTION if  array contains values 1 < arr[i] < n\n",
        "def minimumSwaps(arr):\n",
        "    swaps=0\n",
        "    for i in range(len(arr)):\n",
        "        # we are checking if index of arr have the correct values or not \n",
        "        while arr[i] != i+1 :\n",
        "            # we get the correct value to swap\n",
        "            temp = arr[i]-1\n",
        "            arr[i],arr[temp] = arr[temp],arr[i]\n",
        "            swaps+=1\n",
        "    return (swaps)\n",
        "'''\n",
        "\n",
        "def minimumSwaps(arr):\n",
        "\n",
        "    # we will need a sorted array as reference, an index dictionary(value:index) to get values quickly\n",
        "    sorted_arr = sorted(arr)\n",
        "    index_dict = {v: i for i, v in enumerate(arr)}\n",
        "    swap_count = 0\n",
        "\n",
        "    for index, value in enumerate(arr):\n",
        "        # here we are checking if the value in arr is in its correct/sorted or not\n",
        "        if value != sorted_arr[index]:\n",
        "            # Here we are using the dictionary to get the correct position the value should be in\n",
        "            index_to_swap = index_dict[sorted_arr[index]]\n",
        "            # swapping the values\n",
        "            arr[index_to_swap], arr[index] = arr[index], arr[index_to_swap]\n",
        "            # Now we are updating the dictionary values.\n",
        "            index_dict[value] = index_to_swap\n",
        "            index_dict[sorted_arr[index]] = index\n",
        "            swap_count += 1\n",
        "            print(arr)\n",
        "    print(swap_count)\n",
        "\n",
        "\n",
        "#minimumSwaps([4,3,1,2])\n",
        "minimumSwaps([2,3,4,1,5])\n",
        "#minimumSwaps([1,3,5,2,4,6,7])"
      ],
      "execution_count": null,
      "outputs": [
        {
          "output_type": "error",
          "ename": "SyntaxError",
          "evalue": "ignored",
          "traceback": [
            "\u001b[0;36m  File \u001b[0;32m\"<ipython-input-31-b0c7ccb204bf>\"\u001b[0;36m, line \u001b[0;32m3\u001b[0m\n\u001b[0;31m    return [i,j for i in range(len(nums)) for j in range(len(nums)) if i+j == target]\u001b[0m\n\u001b[0m                  ^\u001b[0m\n\u001b[0;31mSyntaxError\u001b[0m\u001b[0;31m:\u001b[0m invalid syntax\n"
          ]
        }
      ]
    },
    {
      "cell_type": "markdown",
      "metadata": {
        "id": "3Va0sRzbGPPt"
      },
      "source": [
        "Array manipulation\n",
        "\n",
        "Starting with a 1-indexed array of zeros and a list of operations, for each operation add a value to each of the array element between two given indices, inclusive. Once all operations have been performed, return the maximum value in the array.\n",
        "\n"
      ]
    },
    {
      "cell_type": "code",
      "metadata": {
        "id": "wwmc2zJNEcgy"
      },
      "source": [
        "\n"
      ],
      "execution_count": null,
      "outputs": []
    }
  ]
}